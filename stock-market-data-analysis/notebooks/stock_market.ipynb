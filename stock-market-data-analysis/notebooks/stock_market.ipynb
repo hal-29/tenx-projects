{
 "cells": [
  {
   "cell_type": "markdown",
   "id": "c8fb1e16-6126-4a1a-a1c2-6ca448ca61b3",
   "metadata": {},
   "source": [
    "EDA for stock market data analysis"
   ]
  },
  {
   "cell_type": "code",
   "execution_count": 3,
   "id": "41d7e4f5-df6b-4ad1-a7dc-0008b2e5ad0a",
   "metadata": {},
   "outputs": [],
   "source": [
    "\n",
    "import pandas as pd\n",
    "import matplotlib.pyplot as plt\n",
    "import plotly.express as px\n",
    "\n",
    "from datetime import datetime , timedelta"
   ]
  },
  {
   "cell_type": "code",
   "execution_count": 5,
   "id": "ad161758-49c7-49e2-bffb-ad0b023581fc",
   "metadata": {},
   "outputs": [
    {
     "data": {
      "text/html": [
       "<div>\n",
       "<style scoped>\n",
       "    .dataframe tbody tr th:only-of-type {\n",
       "        vertical-align: middle;\n",
       "    }\n",
       "\n",
       "    .dataframe tbody tr th {\n",
       "        vertical-align: top;\n",
       "    }\n",
       "\n",
       "    .dataframe thead th {\n",
       "        text-align: right;\n",
       "    }\n",
       "</style>\n",
       "<table border=\"1\" class=\"dataframe\">\n",
       "  <thead>\n",
       "    <tr style=\"text-align: right;\">\n",
       "      <th></th>\n",
       "      <th>Date</th>\n",
       "      <th>Open</th>\n",
       "      <th>High</th>\n",
       "      <th>Low</th>\n",
       "      <th>Close</th>\n",
       "      <th>Adj Close</th>\n",
       "      <th>Volume</th>\n",
       "      <th>Dividends</th>\n",
       "      <th>Stock Splits</th>\n",
       "    </tr>\n",
       "  </thead>\n",
       "  <tbody>\n",
       "    <tr>\n",
       "      <th>0</th>\n",
       "      <td>1980-12-12</td>\n",
       "      <td>0.128348</td>\n",
       "      <td>0.128906</td>\n",
       "      <td>0.128348</td>\n",
       "      <td>0.128348</td>\n",
       "      <td>0.098943</td>\n",
       "      <td>469033600</td>\n",
       "      <td>0.0</td>\n",
       "      <td>0.0</td>\n",
       "    </tr>\n",
       "    <tr>\n",
       "      <th>1</th>\n",
       "      <td>1980-12-15</td>\n",
       "      <td>0.122210</td>\n",
       "      <td>0.122210</td>\n",
       "      <td>0.121652</td>\n",
       "      <td>0.121652</td>\n",
       "      <td>0.093781</td>\n",
       "      <td>175884800</td>\n",
       "      <td>0.0</td>\n",
       "      <td>0.0</td>\n",
       "    </tr>\n",
       "    <tr>\n",
       "      <th>2</th>\n",
       "      <td>1980-12-16</td>\n",
       "      <td>0.113281</td>\n",
       "      <td>0.113281</td>\n",
       "      <td>0.112723</td>\n",
       "      <td>0.112723</td>\n",
       "      <td>0.086898</td>\n",
       "      <td>105728000</td>\n",
       "      <td>0.0</td>\n",
       "      <td>0.0</td>\n",
       "    </tr>\n",
       "    <tr>\n",
       "      <th>3</th>\n",
       "      <td>1980-12-17</td>\n",
       "      <td>0.115513</td>\n",
       "      <td>0.116071</td>\n",
       "      <td>0.115513</td>\n",
       "      <td>0.115513</td>\n",
       "      <td>0.089049</td>\n",
       "      <td>86441600</td>\n",
       "      <td>0.0</td>\n",
       "      <td>0.0</td>\n",
       "    </tr>\n",
       "    <tr>\n",
       "      <th>4</th>\n",
       "      <td>1980-12-18</td>\n",
       "      <td>0.118862</td>\n",
       "      <td>0.119420</td>\n",
       "      <td>0.118862</td>\n",
       "      <td>0.118862</td>\n",
       "      <td>0.091630</td>\n",
       "      <td>73449600</td>\n",
       "      <td>0.0</td>\n",
       "      <td>0.0</td>\n",
       "    </tr>\n",
       "  </tbody>\n",
       "</table>\n",
       "</div>"
      ],
      "text/plain": [
       "         Date      Open      High       Low     Close  Adj Close     Volume  \\\n",
       "0  1980-12-12  0.128348  0.128906  0.128348  0.128348   0.098943  469033600   \n",
       "1  1980-12-15  0.122210  0.122210  0.121652  0.121652   0.093781  175884800   \n",
       "2  1980-12-16  0.113281  0.113281  0.112723  0.112723   0.086898  105728000   \n",
       "3  1980-12-17  0.115513  0.116071  0.115513  0.115513   0.089049   86441600   \n",
       "4  1980-12-18  0.118862  0.119420  0.118862  0.118862   0.091630   73449600   \n",
       "\n",
       "   Dividends  Stock Splits  \n",
       "0        0.0           0.0  \n",
       "1        0.0           0.0  \n",
       "2        0.0           0.0  \n",
       "3        0.0           0.0  \n",
       "4        0.0           0.0  "
      ]
     },
     "execution_count": 5,
     "metadata": {},
     "output_type": "execute_result"
    }
   ],
   "source": [
    "apple = pd.read_csv(r\"C:\\Users\\hp\\Downloads\\week 1 data\\Data-20240826T133225Z-001\\Data\\yfinance_data\\yfinance_data\\AAPL_historical_data.csv\")\n",
    "apple.head()"
   ]
  },
  {
   "cell_type": "code",
   "execution_count": 7,
   "id": "492f660f-5de4-4bbd-995d-cee091a879c6",
   "metadata": {},
   "outputs": [
    {
     "name": "stdout",
     "output_type": "stream",
     "text": [
      "\n",
      "Missing Values:\n"
     ]
    },
    {
     "data": {
      "text/plain": [
       "Date            0\n",
       "Open            0\n",
       "High            0\n",
       "Low             0\n",
       "Close           0\n",
       "Adj Close       0\n",
       "Volume          0\n",
       "Dividends       0\n",
       "Stock Splits    0\n",
       "dtype: int64"
      ]
     },
     "execution_count": 7,
     "metadata": {},
     "output_type": "execute_result"
    }
   ],
   "source": [
    "\n",
    "print(\"\\nMissing Values:\")\n",
    "apple.isnull().sum()    #checking for missing value"
   ]
  },
  {
   "cell_type": "code",
   "execution_count": 9,
   "id": "901b8f18-751e-4de4-b687-691269ca38fa",
   "metadata": {},
   "outputs": [
    {
     "name": "stdout",
     "output_type": "stream",
     "text": [
      "\n",
      "Basic Statistics:\n",
      "               Open          High           Low         Close     Adj Close  \\\n",
      "count  10998.000000  10998.000000  10998.000000  10998.000000  10998.000000   \n",
      "mean      22.299160     22.539055     22.068367     22.312754     21.494496   \n",
      "std       46.003685     46.496031     45.540929     46.037660     45.561916   \n",
      "min        0.049665      0.049665      0.049107      0.049107      0.037857   \n",
      "25%        0.299107      0.303710      0.290179      0.298549      0.241840   \n",
      "50%        0.531250      0.537946      0.522321      0.531250      0.432079   \n",
      "75%       20.204196     20.389554     19.998036     20.196160     17.253029   \n",
      "max      236.479996    237.229996    233.089996    234.820007    234.548523   \n",
      "\n",
      "             Volume     Dividends  Stock Splits  \n",
      "count  1.099800e+04  10998.000000  10998.000000  \n",
      "mean   3.180806e+08      0.000752      0.001546  \n",
      "std    3.354523e+08      0.011753      0.083663  \n",
      "min    0.000000e+00      0.000000      0.000000  \n",
      "25%    1.132545e+08      0.000000      0.000000  \n",
      "50%    2.057412e+08      0.000000      0.000000  \n",
      "75%    3.985275e+08      0.000000      0.000000  \n",
      "max    7.421641e+09      0.250000      7.000000  \n",
      "\n",
      "DataFrame Structure:\n",
      "<class 'pandas.core.frame.DataFrame'>\n",
      "RangeIndex: 10998 entries, 0 to 10997\n",
      "Data columns (total 9 columns):\n",
      " #   Column        Non-Null Count  Dtype  \n",
      "---  ------        --------------  -----  \n",
      " 0   Date          10998 non-null  object \n",
      " 1   Open          10998 non-null  float64\n",
      " 2   High          10998 non-null  float64\n",
      " 3   Low           10998 non-null  float64\n",
      " 4   Close         10998 non-null  float64\n",
      " 5   Adj Close     10998 non-null  float64\n",
      " 6   Volume        10998 non-null  int64  \n",
      " 7   Dividends     10998 non-null  float64\n",
      " 8   Stock Splits  10998 non-null  float64\n",
      "dtypes: float64(7), int64(1), object(1)\n",
      "memory usage: 773.4+ KB\n",
      "None\n"
     ]
    }
   ],
   "source": [
    "def validate_and_prepare_stock_data(apple):\n",
    "    if 'date' in apple.columns:\n",
    "        try:\n",
    "            apple['date'] = pd.to_datetime(apple['date'], infer_datetime_format=True)\n",
    "        except pd.errors.ParserError:\n",
    "            print(\"Warning: Could not parse 'date' column to datetime format. Check format.\")\n",
    "        apple.set_index('date', inplace=True)\n",
    "\n",
    "    required_columns = ['Open', 'High', 'Low', 'Close', 'Volume']\n",
    "    for column in required_columns:\n",
    "        if column not in apple.columns:\n",
    "            raise ValueError(f\"Missing required column: {column}\")\n",
    "\n",
    "    print(\"\\nBasic Statistics:\")\n",
    "    print(apple.describe())\n",
    "\n",
    "    print(\"\\nDataFrame Structure:\")\n",
    "    print(apple.info())\n",
    "\n",
    "# calling the function\n",
    "validate_and_prepare_stock_data(apple)"
   ]
  },
  {
   "cell_type": "markdown",
   "id": "c7915652-6bf5-4304-9883-848227e8d901",
   "metadata": {},
   "source": [
    "###### EDA FOR AMAZON STOCK MARKET DATA"
   ]
  },
  {
   "cell_type": "code",
   "execution_count": 11,
   "id": "0a5e09ae-e998-4568-bd34-9cdce29b4f4d",
   "metadata": {},
   "outputs": [
    {
     "name": "stdout",
     "output_type": "stream",
     "text": [
      "         Date      Open      High       Low     Close  Adj Close      Volume  \\\n",
      "0  1997-05-15  0.121875  0.125000  0.096354  0.097917   0.097917  1443120000   \n",
      "1  1997-05-16  0.098438  0.098958  0.085417  0.086458   0.086458   294000000   \n",
      "2  1997-05-19  0.088021  0.088542  0.081250  0.085417   0.085417   122136000   \n",
      "3  1997-05-20  0.086458  0.087500  0.081771  0.081771   0.081771   109344000   \n",
      "4  1997-05-21  0.081771  0.082292  0.068750  0.071354   0.071354   377064000   \n",
      "\n",
      "   Dividends  Stock Splits  \n",
      "0        0.0           0.0  \n",
      "1        0.0           0.0  \n",
      "2        0.0           0.0  \n",
      "3        0.0           0.0  \n",
      "4        0.0           0.0  \n",
      "\n",
      "Missing Values:\n"
     ]
    },
    {
     "data": {
      "text/plain": [
       "Date            0\n",
       "Open            0\n",
       "High            0\n",
       "Low             0\n",
       "Close           0\n",
       "Adj Close       0\n",
       "Volume          0\n",
       "Dividends       0\n",
       "Stock Splits    0\n",
       "dtype: int64"
      ]
     },
     "execution_count": 11,
     "metadata": {},
     "output_type": "execute_result"
    }
   ],
   "source": [
    "amz = pd.read_csv(r\"C:\\Users\\hp\\Downloads\\week 1 data\\Data-20240826T133225Z-001\\Data\\yfinance_data\\yfinance_data\\AMZN_historical_data.csv\")\n",
    "print(amz.head())\n",
    "\n",
    "print(\"\\nMissing Values:\")\n",
    "amz.isnull().sum()    #checking for missing value"
   ]
  },
  {
   "cell_type": "code",
   "execution_count": 13,
   "id": "19c9d735-aa99-43fa-94cd-cf13c55c27f9",
   "metadata": {},
   "outputs": [
    {
     "name": "stdout",
     "output_type": "stream",
     "text": [
      "\n",
      "Basic Statistics:\n",
      "              Open         High          Low        Close    Adj Close  \\\n",
      "count  6846.000000  6846.000000  6846.000000  6846.000000  6846.000000   \n",
      "mean     37.360464    37.801009    36.882561    37.351096    37.351096   \n",
      "std      53.756955    54.366449    53.087051    53.729913    53.729913   \n",
      "min       0.070313     0.072396     0.065625     0.069792     0.069792   \n",
      "25%       2.070125     2.120625     2.040156     2.076750     2.076750   \n",
      "50%       8.574500     8.666750     8.466500     8.591500     8.591500   \n",
      "75%      50.453876    50.723249    50.059875    50.426500    50.426500   \n",
      "max     200.089996   201.199997   199.050003   200.000000   200.000000   \n",
      "\n",
      "             Volume  Dividends  Stock Splits  \n",
      "count  6.846000e+03     6846.0   6846.000000  \n",
      "mean   1.380713e+08        0.0      0.003944  \n",
      "std    1.382346e+08        0.0      0.246789  \n",
      "min    9.744000e+06        0.0      0.000000  \n",
      "25%    6.505442e+07        0.0      0.000000  \n",
      "50%    1.020650e+08        0.0      0.000000  \n",
      "75%    1.567560e+08        0.0      0.000000  \n",
      "max    2.086584e+09        0.0     20.000000  \n",
      "\n",
      "DataFrame Structure:\n",
      "<class 'pandas.core.frame.DataFrame'>\n",
      "RangeIndex: 6846 entries, 0 to 6845\n",
      "Data columns (total 9 columns):\n",
      " #   Column        Non-Null Count  Dtype  \n",
      "---  ------        --------------  -----  \n",
      " 0   Date          6846 non-null   object \n",
      " 1   Open          6846 non-null   float64\n",
      " 2   High          6846 non-null   float64\n",
      " 3   Low           6846 non-null   float64\n",
      " 4   Close         6846 non-null   float64\n",
      " 5   Adj Close     6846 non-null   float64\n",
      " 6   Volume        6846 non-null   int64  \n",
      " 7   Dividends     6846 non-null   float64\n",
      " 8   Stock Splits  6846 non-null   float64\n",
      "dtypes: float64(7), int64(1), object(1)\n",
      "memory usage: 481.5+ KB\n",
      "None\n"
     ]
    }
   ],
   "source": [
    "\n",
    "# calling the function\n",
    "validate_and_prepare_stock_data(amz)"
   ]
  },
  {
   "cell_type": "markdown",
   "id": "e0956ad6-ed1d-4795-b8d8-d24762055762",
   "metadata": {},
   "source": [
    "EDA FOR GOOGLE STOCK MARKET DATA"
   ]
  },
  {
   "cell_type": "code",
   "execution_count": 15,
   "id": "f9f3bd49-58b1-44e1-9ec4-08b1d1251a56",
   "metadata": {},
   "outputs": [
    {
     "name": "stdout",
     "output_type": "stream",
     "text": [
      "         Date      Open      High       Low     Close  Adj Close     Volume  \\\n",
      "0  2004-08-19  2.490664  2.591785  2.390042  2.499133   2.496292  897427216   \n",
      "1  2004-08-20  2.515820  2.716817  2.503118  2.697639   2.694573  458857488   \n",
      "2  2004-08-23  2.758411  2.826406  2.716070  2.724787   2.721690  366857939   \n",
      "3  2004-08-24  2.770615  2.779581  2.579581  2.611960   2.608991  306396159   \n",
      "4  2004-08-25  2.614201  2.689918  2.587302  2.640104   2.637103  184645512   \n",
      "\n",
      "   Dividends  Stock Splits  \n",
      "0        0.0           0.0  \n",
      "1        0.0           0.0  \n",
      "2        0.0           0.0  \n",
      "3        0.0           0.0  \n",
      "4        0.0           0.0  \n",
      "\n",
      "Missing Values:\n"
     ]
    },
    {
     "data": {
      "text/plain": [
       "Date            0\n",
       "Open            0\n",
       "High            0\n",
       "Low             0\n",
       "Close           0\n",
       "Adj Close       0\n",
       "Volume          0\n",
       "Dividends       0\n",
       "Stock Splits    0\n",
       "dtype: int64"
      ]
     },
     "execution_count": 15,
     "metadata": {},
     "output_type": "execute_result"
    }
   ],
   "source": [
    "goog = pd.read_csv(r\"C:\\Users\\hp\\Downloads\\week 1 data\\Data-20240826T133225Z-001\\Data\\yfinance_data\\yfinance_data\\GOOG_historical_data.csv\")\n",
    "print(goog.head())\n",
    "\n",
    "print(\"\\nMissing Values:\")\n",
    "goog.isnull().sum()    #checking for missing value"
   ]
  },
  {
   "cell_type": "code",
   "execution_count": 17,
   "id": "22f4a4bd-86d5-424c-91f8-07958fe10161",
   "metadata": {},
   "outputs": [
    {
     "name": "stdout",
     "output_type": "stream",
     "text": [
      "\n",
      "Basic Statistics:\n",
      "              Open         High          Low        Close    Adj Close  \\\n",
      "count  5020.000000  5020.000000  5020.000000  5020.000000  5020.000000   \n",
      "mean     45.251315    45.728793    44.800587    45.274515    45.224493   \n",
      "std      43.338635    43.818298    42.918167    43.377299    43.332534   \n",
      "min       2.470490     2.534002     2.390042     2.490913     2.488082   \n",
      "25%      13.034705    13.145415    12.881592    13.032090    13.017277   \n",
      "50%      26.982210    27.194902    26.791387    27.005927    26.975230   \n",
      "75%      60.215126    60.758375    59.811811    60.280252    60.211734   \n",
      "max     191.750000   193.309998   190.619995   192.660004   192.660004   \n",
      "\n",
      "             Volume    Dividends  Stock Splits  \n",
      "count  5.020000e+03  5020.000000   5020.000000  \n",
      "mean   1.157539e+08     0.000040      0.004583  \n",
      "std    1.497936e+08     0.002823      0.284034  \n",
      "min    1.584340e+05     0.000000      0.000000  \n",
      "25%    2.733950e+07     0.000000      0.000000  \n",
      "50%    5.585480e+07     0.000000      0.000000  \n",
      "75%    1.425333e+08     0.000000      0.000000  \n",
      "max    1.650833e+09     0.200000     20.000000  \n",
      "\n",
      "DataFrame Structure:\n",
      "<class 'pandas.core.frame.DataFrame'>\n",
      "RangeIndex: 5020 entries, 0 to 5019\n",
      "Data columns (total 9 columns):\n",
      " #   Column        Non-Null Count  Dtype  \n",
      "---  ------        --------------  -----  \n",
      " 0   Date          5020 non-null   object \n",
      " 1   Open          5020 non-null   float64\n",
      " 2   High          5020 non-null   float64\n",
      " 3   Low           5020 non-null   float64\n",
      " 4   Close         5020 non-null   float64\n",
      " 5   Adj Close     5020 non-null   float64\n",
      " 6   Volume        5020 non-null   int64  \n",
      " 7   Dividends     5020 non-null   float64\n",
      " 8   Stock Splits  5020 non-null   float64\n",
      "dtypes: float64(7), int64(1), object(1)\n",
      "memory usage: 353.1+ KB\n",
      "None\n"
     ]
    }
   ],
   "source": [
    "\n",
    "# calling the function\n",
    "validate_and_prepare_stock_data(goog)"
   ]
  },
  {
   "cell_type": "markdown",
   "id": "3c31bc1c-1ccc-400c-b77e-6f1ef7751194",
   "metadata": {},
   "source": [
    "EDA   FOR META STACK MARKET DATA"
   ]
  },
  {
   "cell_type": "code",
   "execution_count": null,
   "id": "8c418823-412c-442a-8961-b1920824f934",
   "metadata": {},
   "outputs": [],
   "source": []
  }
 ],
 "metadata": {
  "kernelspec": {
   "display_name": "Python 3 (ipykernel)",
   "language": "python",
   "name": "python3"
  },
  "language_info": {
   "codemirror_mode": {
    "name": "ipython",
    "version": 3
   },
   "file_extension": ".py",
   "mimetype": "text/x-python",
   "name": "python",
   "nbconvert_exporter": "python",
   "pygments_lexer": "ipython3",
   "version": "3.12.4"
  }
 },
 "nbformat": 4,
 "nbformat_minor": 5
}
